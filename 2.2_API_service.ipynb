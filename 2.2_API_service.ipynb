{
 "cells": [
  {
   "cell_type": "code",
   "execution_count": null,
   "id": "78dae186",
   "metadata": {},
   "outputs": [
    {
     "name": "stderr",
     "output_type": "stream",
     "text": [
      "/tmp/ipykernel_230461/1893100399.py:8: DeprecationWarning: The 'http_auth' parameter is deprecated. Use 'basic_auth' or 'bearer_auth' parameters instead\n",
      "  es = Elasticsearch(\n"
     ]
    },
    {
     "name": "stdout",
     "output_type": "stream",
     "text": [
      "Connect to Elasticsearch Success\n"
     ]
    },
    {
     "name": "stderr",
     "output_type": "stream",
     "text": [
      "INFO:     Started server process [230461]\n",
      "INFO:     Waiting for application startup.\n",
      "INFO:     Application startup complete.\n",
      "INFO:     Uvicorn running on http://0.0.0.0:14002 (Press CTRL+C to quit)\n"
     ]
    },
    {
     "name": "stdout",
     "output_type": "stream",
     "text": [
      "INFO:     36.227.201.36:0 - \"GET /api/docs HTTP/1.0\" 200 OK\n",
      "INFO:     36.227.201.36:0 - \"GET /api/openapi.json HTTP/1.0\" 200 OK\n",
      "INFO:     36.227.201.36:0 - \"GET /docs HTTP/1.0\" 404 Not Found\n",
      "INFO:     36.227.201.36:0 - \"GET /favicon.ico HTTP/1.0\" 404 Not Found\n",
      "INFO:     36.227.201.36:0 - \"GET /favicon.ico HTTP/1.0\" 404 Not Found\n",
      "INFO:     36.227.201.36:0 - \"GET /api/search?query=A%20fungible%20coin%20name%20and%20symbol%20is%20Eason%20that%20I%20can%20manage%20to%20airdrop%20by%20a%20list%20of%20whitelists HTTP/1.0\" 200 OK\n"
     ]
    }
   ],
   "source": [
    "import ssl\n",
    "from elasticsearch import Elasticsearch\n",
    "\n",
    "from dotenv import dotenv_values\n",
    "config = dotenv_values(\".env\")\n",
    "\n",
    "# Elasticsearch Config\n",
    "es = Elasticsearch(\n",
    "    ['https://localhost:9200'],\n",
    "    http_auth=('elastic', config['ELASTIC_PASSWORD']),\n",
    "    verify_certs=True,\n",
    "    ca_certs='http_ca.crt'\n",
    ")\n",
    "\n",
    "# Check Connection\n",
    "if not es.ping():\n",
    "    raise ValueError(\"Fail to connect to Elasticsearch\")\n",
    "else:\n",
    "    print(\"Connect to Elasticsearch Success\")\n",
    "\n",
    "\n",
    "from fastapi import FastAPI, HTTPException\n",
    "from fastapi.middleware.cors import CORSMiddleware\n",
    "from elasticsearch import Elasticsearch\n",
    "\n",
    "# Initialize FastAPI app\n",
    "PROJECT_NAME=\"SuiGPT Backend to get relevant_codes\"\n",
    "PROJECT_VERSION=\"0.0.1\"\n",
    "app = FastAPI(docs_url=None, title=PROJECT_NAME, version = PROJECT_VERSION)\n",
    "\n",
    "# Enable CORS (Cross-Origin Resource Sharing)\n",
    "origins = [\"*\"]  # You can restrict origins as needed\n",
    "app.add_middleware(\n",
    "    CORSMiddleware,\n",
    "    allow_origins=origins,\n",
    "    allow_credentials=True,\n",
    "    allow_methods=[\"*\"],\n",
    "    allow_headers=[\"*\"],\n",
    ")\n",
    "\n",
    "\n",
    "from fastapi.openapi.docs import get_swagger_ui_html\n",
    "from fastapi.openapi.utils import get_openapi\n",
    "\n",
    "@app.get(\"/api/docs\", include_in_schema=False)\n",
    "async def get_documentation():\n",
    "    return get_swagger_ui_html(openapi_url=\"/api/openapi.json\", title=\"docs\")\n",
    "\n",
    "\n",
    "@app.get(\"/api/openapi.json\", include_in_schema=False)\n",
    "async def openapi():\n",
    "    return get_openapi(title = app.title, version=app.version, routes=app.routes)\n",
    "\n",
    "\n",
    "@app.get(\"/api/search\")\n",
    "async def get_relevant_codes_by_query(query: str = \"A fungible coin name and symbol is Eason that I can manage to airdrop by a list of whitelists\"):\n",
    "    # Define the Elasticsearch query\n",
    "    query = {\n",
    "        \"query\": {\n",
    "            \"more_like_this\": {\n",
    "                \"fields\": [\"code_summary\", \"code_title\"],\n",
    "                \"like\": query,\n",
    "                \"min_term_freq\": 1,\n",
    "                \"max_query_terms\": 12\n",
    "            }\n",
    "        }\n",
    "    }\n",
    "\n",
    "    # Execute the MLT query\n",
    "    index_name = \"sui_gpt\"  # Replace with your Elasticsearch index name\n",
    "    results = es.search(index=index_name, body=query)\n",
    "\n",
    "    # Create a dictionary to store the extracted fields\n",
    "    result_dict = {}\n",
    "\n",
    "    # Iterate through each document in the Elasticsearch results\n",
    "    for doc in results['hits']['hits']:\n",
    "        # Extract the 'code_title' field\n",
    "        title = doc['_source']['code_title']\n",
    "\n",
    "        # Extract other fields\n",
    "        source_move = doc['_source']['source_move']\n",
    "        annotated_move = doc['_source']['annotated_move']\n",
    "        annotated_commented_move = doc['_source']['annotated_commented_move']\n",
    "        code_summary = doc['_source']['code_summary']\n",
    "\n",
    "        # Store the extracted field values in a dictionary\n",
    "        result_dict[title] = {\n",
    "            'source_move': source_move,\n",
    "            'annotated_move': annotated_move,\n",
    "            'annotated_commented_move': annotated_commented_move,\n",
    "            'code_summary': code_summary,\n",
    "            'code_title': title\n",
    "        }\n",
    "\n",
    "    # Take the top 3 items\n",
    "    top_3_results = dict(list(result_dict.items())[:3])\n",
    "\n",
    "    return {\n",
    "        \"match_titles\": list(result_dict.keys()),\n",
    "        \"top3_match_titles\": list(top_3_results.keys()),\n",
    "        \"top3_match\": top_3_results,\n",
    "    }\n",
    "\n",
    "if __name__ == \"__main__\":\n",
    "    import uvicorn\n",
    "    \n",
    "    import nest_asyncio\n",
    "    nest_asyncio.apply()\n",
    "    \n",
    "    # Run the FastAPI application\n",
    "    if \"PORT\" in config.keys():\n",
    "        port = config[\"PORT\"]\n",
    "    else:\n",
    "        port = 14002\n",
    "    uvicorn.run(app, host=\"0.0.0.0\", port=port)\n"
   ]
  },
  {
   "cell_type": "code",
   "execution_count": null,
   "id": "df22b351",
   "metadata": {},
   "outputs": [],
   "source": []
  },
  {
   "cell_type": "code",
   "execution_count": null,
   "id": "1034e2fc",
   "metadata": {},
   "outputs": [],
   "source": []
  }
 ],
 "metadata": {
  "kernelspec": {
   "display_name": "Python 3 (ipykernel)",
   "language": "python",
   "name": "python3"
  },
  "language_info": {
   "codemirror_mode": {
    "name": "ipython",
    "version": 3
   },
   "file_extension": ".py",
   "mimetype": "text/x-python",
   "name": "python",
   "nbconvert_exporter": "python",
   "pygments_lexer": "ipython3",
   "version": "3.11.3"
  },
  "varInspector": {
   "cols": {
    "lenName": 16,
    "lenType": 16,
    "lenVar": 40
   },
   "kernels_config": {
    "python": {
     "delete_cmd_postfix": "",
     "delete_cmd_prefix": "del ",
     "library": "var_list.py",
     "varRefreshCmd": "print(var_dic_list())"
    },
    "r": {
     "delete_cmd_postfix": ") ",
     "delete_cmd_prefix": "rm(",
     "library": "var_list.r",
     "varRefreshCmd": "cat(var_dic_list()) "
    }
   },
   "types_to_exclude": [
    "module",
    "function",
    "builtin_function_or_method",
    "instance",
    "_Feature"
   ],
   "window_display": false
  }
 },
 "nbformat": 4,
 "nbformat_minor": 5
}
