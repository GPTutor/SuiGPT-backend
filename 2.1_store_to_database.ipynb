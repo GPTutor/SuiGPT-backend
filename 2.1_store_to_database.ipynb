{
 "cells": [
  {
   "cell_type": "code",
   "execution_count": 1,
   "id": "61bacb59",
   "metadata": {},
   "outputs": [
    {
     "name": "stdout",
     "output_type": "stream",
     "text": [
      "HI\n"
     ]
    }
   ],
   "source": [
    "print(\"HI\")"
   ]
  },
  {
   "cell_type": "code",
   "execution_count": 2,
   "id": "a9ea8d2a",
   "metadata": {},
   "outputs": [],
   "source": [
    "import os\n",
    "\n",
    "\n",
    "def find_move_files(directory):\n",
    "    move_files = []\n",
    "    for root, dirs, files in os.walk(directory):\n",
    "        for file in files:\n",
    "            if file.endswith(\".move\"):\n",
    "                move_files.append(os.path.join(root, file))\n",
    "    return move_files\n",
    "\n",
    "\n",
    "# Use Sui's Examples\n",
    "directory = \"./sui/sui_programmability/examples/\"\n",
    "move_files = find_move_files(directory)"
   ]
  },
  {
   "cell_type": "code",
   "execution_count": 11,
   "id": "78dae186",
   "metadata": {},
   "outputs": [
    {
     "name": "stdout",
     "output_type": "stream",
     "text": [
      "Connect to Elasticsearch Success\n"
     ]
    },
    {
     "name": "stderr",
     "output_type": "stream",
     "text": [
      "/tmp/ipykernel_230054/854770337.py:8: DeprecationWarning: The 'http_auth' parameter is deprecated. Use 'basic_auth' or 'bearer_auth' parameters instead\n",
      "  es = Elasticsearch(\n"
     ]
    }
   ],
   "source": [
    "import ssl\n",
    "from elasticsearch import Elasticsearch\n",
    "\n",
    "from dotenv import dotenv_values\n",
    "config = dotenv_values(\".env\")\n",
    "\n",
    "# Elasticsearch Config\n",
    "es = Elasticsearch(\n",
    "    ['https://localhost:9200'],\n",
    "    http_auth=('elastic', config['ELASTIC_PASSWORD']),\n",
    "    verify_certs=True,\n",
    "    ca_certs='http_ca.crt'\n",
    ")\n",
    "\n",
    "# Check Connection\n",
    "if not es.ping():\n",
    "    raise ValueError(\"Fail to connect to Elasticsearch\")\n",
    "else:\n",
    "    print(\"Connect to Elasticsearch Success\")\n"
   ]
  },
  {
   "cell_type": "code",
   "execution_count": 28,
   "id": "2f0f24d5",
   "metadata": {},
   "outputs": [
    {
     "data": {
      "text/plain": [
       "ObjectApiResponse({'took': 46, 'timed_out': False, 'total': 68, 'deleted': 68, 'batches': 1, 'version_conflicts': 0, 'noops': 0, 'retries': {'bulk': 0, 'search': 0}, 'throttled_millis': 0, 'requests_per_second': -1.0, 'throttled_until_millis': 0, 'failures': []})"
      ]
     },
     "execution_count": 28,
     "metadata": {},
     "output_type": "execute_result"
    }
   ],
   "source": [
    "index_name = \"sui_gpt\"\n",
    "# Define all queries\n",
    "query = {\n",
    "    \"query\": {\n",
    "        \"match_all\": {}\n",
    "    }\n",
    "}\n",
    "\n",
    "# Clear index: Delete By Query\n",
    "es.delete_by_query(index=index_name, body=query)"
   ]
  },
  {
   "cell_type": "code",
   "execution_count": 29,
   "id": "52ce1021",
   "metadata": {},
   "outputs": [
    {
     "name": "stderr",
     "output_type": "stream",
     "text": [
      "/tmp/ipykernel_230054/2785200631.py:2: DeprecationWarning: Passing transport options in the API method is deprecated. Use 'Elasticsearch.options()' instead.\n",
      "  es.indices.create(index=index_name, ignore=400)\n"
     ]
    },
    {
     "data": {
      "text/plain": [
       "ObjectApiResponse({'error': {'root_cause': [{'type': 'resource_already_exists_exception', 'reason': 'index [sui_gpt/8UkO3tULSCSAUJwUxie0UQ] already exists', 'index_uuid': '8UkO3tULSCSAUJwUxie0UQ', 'index': 'sui_gpt'}], 'type': 'resource_already_exists_exception', 'reason': 'index [sui_gpt/8UkO3tULSCSAUJwUxie0UQ] already exists', 'index_uuid': '8UkO3tULSCSAUJwUxie0UQ', 'index': 'sui_gpt'}, 'status': 400})"
      ]
     },
     "execution_count": 29,
     "metadata": {},
     "output_type": "execute_result"
    }
   ],
   "source": [
    "\n",
    "# 建立索引\n",
    "es.indices.create(index=index_name, ignore=400)\n"
   ]
  },
  {
   "cell_type": "code",
   "execution_count": 30,
   "id": "212ce8b4",
   "metadata": {},
   "outputs": [
    {
     "name": "stderr",
     "output_type": "stream",
     "text": [
      "100%|████████████████████████████████████████████████████████████████████████████████████████████████████████████████████████████████████████████████████████████████████| 68/68 [00:00<00:00, 172.11it/s]\n"
     ]
    }
   ],
   "source": [
    "from tqdm import tqdm\n",
    "\n",
    "for move_file in tqdm(move_files):\n",
    "    # Read files\n",
    "    with open(move_file + \"a\", \"r\") as f:\n",
    "        source_move = f.read()\n",
    "    with open(move_file + \"a\", \"r\") as f:\n",
    "        annotated_move = f.read()\n",
    "    with open(move_file + \"ac\", \"r\") as f:\n",
    "        annotated_commented_move = f.read()\n",
    "    with open(move_file + \".summary\", \"r\") as f:\n",
    "        code_summary = f.read()\n",
    "    with open(move_file + \".title\", \"r\") as f:\n",
    "        code_title = f.read()\n",
    "\n",
    "    # create doc\n",
    "    doc = {\n",
    "        \"source_move\": source_move,\n",
    "        \"annotated_move\": annotated_move,\n",
    "        \"annotated_commented_move\": annotated_commented_move,\n",
    "        \"code_summary\": code_summary,\n",
    "        \"code_title\": code_title\n",
    "    }\n",
    "\n",
    "    # 索引文檔\n",
    "    es.index(index=index_name, document=doc)\n"
   ]
  },
  {
   "cell_type": "code",
   "execution_count": 58,
   "id": "f3c926cb",
   "metadata": {},
   "outputs": [],
   "source": [
    "instructions = \"A fungible coin name and symbol is Eason that I can manage to airdrop by a list of whitelists\"\n",
    "\n",
    "query = {\n",
    "    \"query\": {\n",
    "        \"more_like_this\": {\n",
    "            \"fields\": [\"code_summary\", \"code_title\"],\n",
    "            \"like\": instructions,\n",
    "            \"min_term_freq\": 1,\n",
    "            \"max_query_terms\": 12\n",
    "        }\n",
    "    }\n",
    "}\n",
    "\n",
    "# 執行 MLT 查詢\n",
    "results = es.search(index=index_name, body=query)\n",
    "\n",
    "\n",
    "# Assuming 'results' is the result obtained from querying Elasticsearch\n",
    "\n",
    "# Create a dictionary to store the extracted fields\n",
    "result_dict = {}\n",
    "\n",
    "# Iterate through each document in the Elasticsearch results\n",
    "for doc in results['hits']['hits']:\n",
    "    # Extract the 'code_title' field\n",
    "    title = doc['_source']['code_title']\n",
    "\n",
    "    # Extract other fields\n",
    "    source_move = doc['_source']['source_move']\n",
    "    annotated_move = doc['_source']['annotated_move']\n",
    "    annotated_commented_move = doc['_source']['annotated_commented_move']\n",
    "    code_summary = doc['_source']['code_summary']\n",
    "    \n",
    "    # Store the extracted field values in a dictionary\n",
    "    result_dict[title] = {\n",
    "        'source_move': source_move,\n",
    "        'annotated_move': annotated_move,\n",
    "        'annotated_commented_move': annotated_commented_move,\n",
    "        'code_summary': code_summary,\n",
    "        'code_title': title\n",
    "    }\n",
    "\n",
    "# Print the resulting dictionary\n",
    "\n",
    "# Take the top 3 items\n",
    "top_3_results = dict(list(result_dict.items())[:3])\n",
    "\n",
    "\n",
    "\n",
    "\n",
    "output = {\n",
    "    \"match_titles\": result_dict.keys(),\n",
    "    \"top3_match\": top_3_results.keys(),\n",
    "    \"top3_match\": top_3_results,\n",
    "}"
   ]
  },
  {
   "cell_type": "code",
   "execution_count": 60,
   "id": "d18acdb0",
   "metadata": {},
   "outputs": [
    {
     "name": "stdout",
     "output_type": "stream",
     "text": [
      "dict_keys(['Managed Fungible Tokens', 'Cross-Chain Airdrops of NFTs', 'Marketplace Implementation', 'NFT Module', 'Capy Admin', 'Capy Marketplace', 'Treasury Lock Pattern', 'Capy Item Store', 'Module for a regulated coin type with balance accessors for implementing a RegulatedCoin interface', 'Auction Tests'])\n"
     ]
    }
   ],
   "source": [
    "# Find managed fungible coin and airdrop NFT contract first! Fit our need!\n",
    "print(result_dict.keys())"
   ]
  },
  {
   "cell_type": "code",
   "execution_count": null,
   "id": "1034e2fc",
   "metadata": {},
   "outputs": [],
   "source": []
  }
 ],
 "metadata": {
  "kernelspec": {
   "display_name": "Python 3 (ipykernel)",
   "language": "python",
   "name": "python3"
  },
  "language_info": {
   "codemirror_mode": {
    "name": "ipython",
    "version": 3
   },
   "file_extension": ".py",
   "mimetype": "text/x-python",
   "name": "python",
   "nbconvert_exporter": "python",
   "pygments_lexer": "ipython3",
   "version": "3.11.3"
  },
  "varInspector": {
   "cols": {
    "lenName": 16,
    "lenType": 16,
    "lenVar": 40
   },
   "kernels_config": {
    "python": {
     "delete_cmd_postfix": "",
     "delete_cmd_prefix": "del ",
     "library": "var_list.py",
     "varRefreshCmd": "print(var_dic_list())"
    },
    "r": {
     "delete_cmd_postfix": ") ",
     "delete_cmd_prefix": "rm(",
     "library": "var_list.r",
     "varRefreshCmd": "cat(var_dic_list()) "
    }
   },
   "types_to_exclude": [
    "module",
    "function",
    "builtin_function_or_method",
    "instance",
    "_Feature"
   ],
   "window_display": false
  }
 },
 "nbformat": 4,
 "nbformat_minor": 5
}
