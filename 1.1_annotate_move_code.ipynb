{
 "cells": [
  {
   "cell_type": "code",
   "execution_count": 6,
   "id": "6fc1ca80",
   "metadata": {},
   "outputs": [],
   "source": [
    "import os\n",
    "\n",
    "def find_move_files(directory):\n",
    "    move_files = []\n",
    "    for root, dirs, files in os.walk(directory):\n",
    "        for file in files:\n",
    "            if file.endswith('.move'):\n",
    "                move_files.append(os.path.join(root, file))\n",
    "    return move_files\n",
    "\n",
    "# Use Sui's Examples\n",
    "directory = './sui/sui_programmability/examples/'\n",
    "move_files = find_move_files(directory)\n"
   ]
  },
  {
   "cell_type": "code",
   "execution_count": null,
   "id": "434ce043",
   "metadata": {},
   "outputs": [
    {
     "name": "stderr",
     "output_type": "stream",
     "text": [
      " 97%|█████████████████████████████████████████████████████▍ | 66/68 [04:36<00:08,  4.17s/it]"
     ]
    }
   ],
   "source": [
    "import json\n",
    "import requests\n",
    "from tqdm import tqdm\n",
    "for move_file in tqdm(move_files):\n",
    "\n",
    "    with open(move_file, 'r') as f:\n",
    "        d = f.readlines()\n",
    "\n",
    "\n",
    "    data = json.dumps({\"move\": \"\".join(d)})\n",
    "    # Headers\n",
    "    headers = {\n",
    "        'accept': 'application/json',\n",
    "        'Content-Type': 'application/json'\n",
    "    }\n",
    "    res = requests.post(\"https://move-annotate-backend.gptutor.tools/api/v1/move-annotate\", headers=headers, data = data)\n",
    "\n",
    "    with open(f\"{move_file}a\", 'w') as f:\n",
    "        f.write(res.json()['move'])"
   ]
  },
  {
   "cell_type": "code",
   "execution_count": null,
   "id": "6934f991",
   "metadata": {},
   "outputs": [],
   "source": []
  }
 ],
 "metadata": {
  "kernelspec": {
   "display_name": "Python 3 (ipykernel)",
   "language": "python",
   "name": "python3"
  },
  "language_info": {
   "codemirror_mode": {
    "name": "ipython",
    "version": 3
   },
   "file_extension": ".py",
   "mimetype": "text/x-python",
   "name": "python",
   "nbconvert_exporter": "python",
   "pygments_lexer": "ipython3",
   "version": "3.11.3"
  },
  "varInspector": {
   "cols": {
    "lenName": 16,
    "lenType": 16,
    "lenVar": 40
   },
   "kernels_config": {
    "python": {
     "delete_cmd_postfix": "",
     "delete_cmd_prefix": "del ",
     "library": "var_list.py",
     "varRefreshCmd": "print(var_dic_list())"
    },
    "r": {
     "delete_cmd_postfix": ") ",
     "delete_cmd_prefix": "rm(",
     "library": "var_list.r",
     "varRefreshCmd": "cat(var_dic_list()) "
    }
   },
   "types_to_exclude": [
    "module",
    "function",
    "builtin_function_or_method",
    "instance",
    "_Feature"
   ],
   "window_display": false
  }
 },
 "nbformat": 4,
 "nbformat_minor": 5
}
