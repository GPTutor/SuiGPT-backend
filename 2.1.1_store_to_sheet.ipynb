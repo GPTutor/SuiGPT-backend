{
 "cells": [
  {
   "cell_type": "code",
   "execution_count": 1,
   "id": "3c3ddeaf",
   "metadata": {},
   "outputs": [
    {
     "name": "stdout",
     "output_type": "stream",
     "text": [
      "HI\n"
     ]
    }
   ],
   "source": [
    "print(\"HI\")"
   ]
  },
  {
   "cell_type": "code",
   "execution_count": 2,
   "id": "a9ea8d2a",
   "metadata": {},
   "outputs": [],
   "source": [
    "import os\n",
    "\n",
    "\n",
    "def find_move_files(directory):\n",
    "    move_files = []\n",
    "    for root, dirs, files in os.walk(directory):\n",
    "        for file in files:\n",
    "            if file.endswith(\".move\"):\n",
    "                move_files.append(os.path.join(root, file))\n",
    "    return move_files\n",
    "\n",
    "\n",
    "# Use Sui's Examples\n",
    "directory = \"./sui/sui_programmability/examples/\"\n",
    "move_files = find_move_files(directory)"
   ]
  },
  {
   "cell_type": "code",
   "execution_count": 3,
   "id": "212ce8b4",
   "metadata": {},
   "outputs": [
    {
     "name": "stderr",
     "output_type": "stream",
     "text": [
      "100%|██████████████████████████████████████████████████████████████████████████████████████████████████████████████████████████████████████████████████████████████████| 68/68 [00:00<00:00, 10137.29it/s]\n"
     ]
    }
   ],
   "source": [
    "from tqdm import tqdm\n",
    "\n",
    "rows = []\n",
    "for move_file in tqdm(move_files):\n",
    "    # Read files\n",
    "    with open(move_file + \"a\", \"r\") as f:\n",
    "        source_move = f.read()\n",
    "    with open(move_file + \"a\", \"r\") as f:\n",
    "        annotated_move = f.read()\n",
    "    with open(move_file + \"ac\", \"r\") as f:\n",
    "        annotated_commented_move = f.read()\n",
    "    with open(move_file + \".summary\", \"r\") as f:\n",
    "        code_summary = f.read()\n",
    "    with open(move_file + \".title\", \"r\") as f:\n",
    "        code_title = f.read()\n",
    "\n",
    "    # create doc\n",
    "    rows.append({\n",
    "        \"source_move\": source_move,\n",
    "        \"annotated_move\": annotated_move,\n",
    "        \"annotated_commented_move\": annotated_commented_move,\n",
    "        \"code_summary\": code_summary,\n",
    "        \"code_title\": code_title\n",
    "    })"
   ]
  },
  {
   "cell_type": "code",
   "execution_count": 4,
   "id": "ef98bdb7",
   "metadata": {},
   "outputs": [],
   "source": [
    "import pandas as pd\n",
    "df = pd.DataFrame(rows)"
   ]
  },
  {
   "cell_type": "code",
   "execution_count": 5,
   "id": "0641b7cc",
   "metadata": {},
   "outputs": [],
   "source": [
    "df.to_csv(\"SuiGPT_dataset.csv\", index=False)"
   ]
  },
  {
   "cell_type": "code",
   "execution_count": 6,
   "id": "81e5cfc2",
   "metadata": {},
   "outputs": [],
   "source": [
    "import sheet_utils"
   ]
  },
  {
   "cell_type": "code",
   "execution_count": null,
   "id": "6b14b8d8",
   "metadata": {},
   "outputs": [],
   "source": [
    "sheet = sheet_utils.get_sheet(\"SuiGPT_\")"
   ]
  },
  {
   "cell_type": "code",
   "execution_count": null,
   "id": "8294bede",
   "metadata": {},
   "outputs": [],
   "source": []
  },
  {
   "cell_type": "code",
   "execution_count": null,
   "id": "11ff4d69",
   "metadata": {},
   "outputs": [],
   "source": []
  },
  {
   "cell_type": "code",
   "execution_count": 58,
   "id": "f3c926cb",
   "metadata": {},
   "outputs": [],
   "source": [
    "instructions = \"A fungible coin name and symbol is Eason that I can manage to airdrop by a list of whitelists\"\n",
    "\n",
    "query = {\n",
    "    \"query\": {\n",
    "        \"more_like_this\": {\n",
    "            \"fields\": [\"code_summary\", \"code_title\"],\n",
    "            \"like\": instructions,\n",
    "            \"min_term_freq\": 1,\n",
    "            \"max_query_terms\": 12\n",
    "        }\n",
    "    }\n",
    "}\n",
    "\n",
    "# 執行 MLT 查詢\n",
    "results = es.search(index=index_name, body=query)\n",
    "\n",
    "\n",
    "# Assuming 'results' is the result obtained from querying Elasticsearch\n",
    "\n",
    "# Create a dictionary to store the extracted fields\n",
    "result_dict = {}\n",
    "\n",
    "# Iterate through each document in the Elasticsearch results\n",
    "for doc in results['hits']['hits']:\n",
    "    # Extract the 'code_title' field\n",
    "    title = doc['_source']['code_title']\n",
    "\n",
    "    # Extract other fields\n",
    "    source_move = doc['_source']['source_move']\n",
    "    annotated_move = doc['_source']['annotated_move']\n",
    "    annotated_commented_move = doc['_source']['annotated_commented_move']\n",
    "    code_summary = doc['_source']['code_summary']\n",
    "    \n",
    "    # Store the extracted field values in a dictionary\n",
    "    result_dict[title] = {\n",
    "        'source_move': source_move,\n",
    "        'annotated_move': annotated_move,\n",
    "        'annotated_commented_move': annotated_commented_move,\n",
    "        'code_summary': code_summary,\n",
    "        'code_title': title\n",
    "    }\n",
    "\n",
    "# Print the resulting dictionary\n",
    "\n",
    "# Take the top 3 items\n",
    "top_3_results = dict(list(result_dict.items())[:3])\n",
    "\n",
    "\n",
    "\n",
    "\n",
    "output = {\n",
    "    \"match_titles\": result_dict.keys(),\n",
    "    \"top3_match\": top_3_results.keys(),\n",
    "    \"top3_match\": top_3_results,\n",
    "}"
   ]
  },
  {
   "cell_type": "code",
   "execution_count": 60,
   "id": "f0de0aff",
   "metadata": {},
   "outputs": [
    {
     "name": "stdout",
     "output_type": "stream",
     "text": [
      "dict_keys(['Managed Fungible Tokens', 'Cross-Chain Airdrops of NFTs', 'Marketplace Implementation', 'NFT Module', 'Capy Admin', 'Capy Marketplace', 'Treasury Lock Pattern', 'Capy Item Store', 'Module for a regulated coin type with balance accessors for implementing a RegulatedCoin interface', 'Auction Tests'])\n"
     ]
    }
   ],
   "source": [
    "# Find managed fungible coin and airdrop NFT contract first! Fit our need!\n",
    "print(result_dict.keys())"
   ]
  },
  {
   "cell_type": "code",
   "execution_count": null,
   "id": "3ba786b0",
   "metadata": {},
   "outputs": [],
   "source": []
  }
 ],
 "metadata": {
  "kernelspec": {
   "display_name": "Python 3 (ipykernel)",
   "language": "python",
   "name": "python3"
  },
  "language_info": {
   "codemirror_mode": {
    "name": "ipython",
    "version": 3
   },
   "file_extension": ".py",
   "mimetype": "text/x-python",
   "name": "python",
   "nbconvert_exporter": "python",
   "pygments_lexer": "ipython3",
   "version": "3.11.3"
  },
  "varInspector": {
   "cols": {
    "lenName": 16,
    "lenType": 16,
    "lenVar": 40
   },
   "kernels_config": {
    "python": {
     "delete_cmd_postfix": "",
     "delete_cmd_prefix": "del ",
     "library": "var_list.py",
     "varRefreshCmd": "print(var_dic_list())"
    },
    "r": {
     "delete_cmd_postfix": ") ",
     "delete_cmd_prefix": "rm(",
     "library": "var_list.r",
     "varRefreshCmd": "cat(var_dic_list()) "
    }
   },
   "types_to_exclude": [
    "module",
    "function",
    "builtin_function_or_method",
    "instance",
    "_Feature"
   ],
   "window_display": false
  }
 },
 "nbformat": 4,
 "nbformat_minor": 5
}
