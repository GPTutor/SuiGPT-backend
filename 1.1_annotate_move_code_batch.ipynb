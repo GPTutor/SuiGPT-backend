{
 "cells": [
  {
   "cell_type": "code",
   "execution_count": 67,
   "id": "6fc1ca80",
   "metadata": {},
   "outputs": [],
   "source": [
    "import os\n",
    "\n",
    "def find_move_files(directory):\n",
    "    move_files = []\n",
    "    for root, dirs, files in os.walk(directory):\n",
    "        for file in files:\n",
    "            if file.endswith('.move'):\n",
    "                move_files.append(os.path.join(root, file))\n",
    "    return move_files\n",
    "\n",
    "# Use Sui's Examples\n",
    "directory = './sui/'\n",
    "move_files = find_move_files(directory)\n"
   ]
  },
  {
   "cell_type": "code",
   "execution_count": 89,
   "id": "434ce043",
   "metadata": {},
   "outputs": [
    {
     "name": "stderr",
     "output_type": "stream",
     "text": [
      "100%|███████████████████████████████████████| 2430/2430 [00:45<00:00, 53.88it/s]\n"
     ]
    }
   ],
   "source": [
    "import json\n",
    "import requests\n",
    "from tqdm import tqdm\n",
    "\n",
    "file_ids_mapping = {}\n",
    "for move_file in tqdm(move_files):\n",
    "\n",
    "    with open(move_file, 'r') as f:\n",
    "        d = f.readlines()\n",
    "\n",
    "\n",
    "    data = json.dumps({\"move\": \"\".join(d)})\n",
    "    # Headers\n",
    "    headers = {\n",
    "        'accept': 'application/json',\n",
    "        'Content-Type': 'application/json'\n",
    "    }\n",
    "    res = requests.post(\"https://move-annotate-backend.gptutor.tools/api/v1/move-annotate\", headers=headers, data = data)\n",
    "    file_ids_mapping[move_file] = (res.json()[\"id\"])\n",
    "\n"
   ]
  },
  {
   "cell_type": "code",
   "execution_count": 103,
   "id": "14989104",
   "metadata": {},
   "outputs": [
    {
     "name": "stderr",
     "output_type": "stream",
     "text": [
      "100%|██████████████████████████████████████| 2430/2430 [00:21<00:00, 112.70it/s]\n"
     ]
    }
   ],
   "source": [
    "for move_file, id_ in tqdm(file_ids_mapping.items()):\n",
    "    res = requests.get(f\"https://move-annotate-backend.gptutor.tools/api/v1/get-annotated-move?id={id_}\")\n",
    "    try:\n",
    "        with open(f\"{move_file}a\", 'w') as f:\n",
    "            f.write(res.json()['annotatedMove'])\n",
    "        with open(move_file.replace(\"/\", \"_\\_\").replace(\"._\\_sui_\\_\", \"./annotated_sui/\"), 'w') as f:\n",
    "            f.write(res.json()['annotatedMove'])\n",
    "    except:\n",
    "        print(f\"Error at {move_file}\")\n",
    "    "
   ]
  },
  {
   "cell_type": "code",
   "execution_count": null,
   "id": "9efcd89d",
   "metadata": {},
   "outputs": [],
   "source": [
    "for move_file, id_ in tqdm(file_ids_mapping.items()):\n",
    "    res = requests.get(f\"https://move-annotate-backend.gptutor.tools/api/v1/get-and-delete-annotated-move?id={id_}\")\n",
    "    "
   ]
  },
  {
   "cell_type": "code",
   "execution_count": null,
   "id": "17c89c22",
   "metadata": {},
   "outputs": [],
   "source": [
    "print(\"Q\")"
   ]
  },
  {
   "cell_type": "code",
   "execution_count": null,
   "id": "67a4f460",
   "metadata": {},
   "outputs": [],
   "source": []
  }
 ],
 "metadata": {
  "kernelspec": {
   "display_name": "Python 3 (ipykernel)",
   "language": "python",
   "name": "python3"
  },
  "language_info": {
   "codemirror_mode": {
    "name": "ipython",
    "version": 3
   },
   "file_extension": ".py",
   "mimetype": "text/x-python",
   "name": "python",
   "nbconvert_exporter": "python",
   "pygments_lexer": "ipython3",
   "version": "3.11.3"
  },
  "varInspector": {
   "cols": {
    "lenName": 16,
    "lenType": 16,
    "lenVar": 40
   },
   "kernels_config": {
    "python": {
     "delete_cmd_postfix": "",
     "delete_cmd_prefix": "del ",
     "library": "var_list.py",
     "varRefreshCmd": "print(var_dic_list())"
    },
    "r": {
     "delete_cmd_postfix": ") ",
     "delete_cmd_prefix": "rm(",
     "library": "var_list.r",
     "varRefreshCmd": "cat(var_dic_list()) "
    }
   },
   "types_to_exclude": [
    "module",
    "function",
    "builtin_function_or_method",
    "instance",
    "_Feature"
   ],
   "window_display": false
  }
 },
 "nbformat": 4,
 "nbformat_minor": 5
}
