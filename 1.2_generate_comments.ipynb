{
 "cells": [
  {
   "cell_type": "code",
   "execution_count": 1,
   "id": "a9ea8d2a",
   "metadata": {},
   "outputs": [],
   "source": [
    "import os\n",
    "\n",
    "\n",
    "def find_move_files(directory):\n",
    "    move_files = []\n",
    "    for root, dirs, files in os.walk(directory):\n",
    "        for file in files:\n",
    "            if file.endswith(\".move\"):\n",
    "                move_files.append(os.path.join(root, file))\n",
    "    return move_files\n",
    "\n",
    "\n",
    "# Use Sui's Examples\n",
    "directory = \"./sui/sui_programmability/examples/\"\n",
    "move_files = find_move_files(directory)"
   ]
  },
  {
   "cell_type": "code",
   "execution_count": null,
   "id": "10420ada",
   "metadata": {},
   "outputs": [],
   "source": [
    "\n",
    "\n",
    "from dotenv import load_dotenv\n",
    "\n",
    "load_dotenv()\n",
    "\n",
    "from openai import OpenAI"
   ]
  },
  {
   "cell_type": "code",
   "execution_count": 18,
   "id": "212ce8b4",
   "metadata": {},
   "outputs": [
    {
     "name": "stderr",
     "output_type": "stream",
     "text": [
      "100%|██████████████████████████████████████████████████████████████████████████████████████████████████████████████████████████████████████████████████████████████████| 68/68 [2:21:12<00:00, 124.60s/it]\n"
     ]
    }
   ],
   "source": [
    "from tqdm import tqdm\n",
    "\n",
    "for move_file in tqdm(move_files):\n",
    "    with open(move_file + \"a\", \"r\") as f:\n",
    "        d = f.readlines()\n",
    "\n",
    "    MOVE_CODE = \"\".join(d)\n",
    "    prompt = [\n",
    "        {\n",
    "            \"role\": \"system\",\n",
    "            \"content\": \"Move is an open source language for writing safe smart contracts. It's format is similar to Rust. I want you to act as a professional move Commenter. \\n I will provide some code about move, \\n and it will be your job to add or rewrite comment on the provided move code in English. You should only edit command, but keep the code the same.\",\n",
    "        },\n",
    "        {\n",
    "            \"role\": \"user\",\n",
    "            \"content\": f\"The move code I want you to add comment are in the following triple backquote: \\n```\\n{MOVE_CODE}\\n```\\n. Only return the code after modified. return the code in the triple backquote (```). Add or rewrite the comment in the given code in English, but keep the variable name the same.\",\n",
    "        },\n",
    "    ]\n",
    "\n",
    "    client = OpenAI()\n",
    "\n",
    "    response = client.chat.completions.create(\n",
    "        model=\"gpt-4-1106-preview\",\n",
    "        #     model=\"gpt-3.5-turbo\",\n",
    "        messages=prompt,\n",
    "        temperature=0,\n",
    "        #   max_tokens=4095,\n",
    "        top_p=1,\n",
    "        frequency_penalty=0,\n",
    "        presence_penalty=0,\n",
    "    )\n",
    "\n",
    "    commented_code = response.choices[0].message.content\n",
    "\n",
    "    with open(f\"{move_file}ac\", 'w') as f:\n",
    "        f.write(commented_code.replace(\"```\", \"\"))"
   ]
  },
  {
   "cell_type": "code",
   "execution_count": null,
   "id": "5d81d593",
   "metadata": {},
   "outputs": [],
   "source": []
  },
  {
   "cell_type": "code",
   "execution_count": null,
   "id": "88bae3b4",
   "metadata": {},
   "outputs": [],
   "source": []
  }
 ],
 "metadata": {
  "kernelspec": {
   "display_name": "Python 3 (ipykernel)",
   "language": "python",
   "name": "python3"
  },
  "language_info": {
   "codemirror_mode": {
    "name": "ipython",
    "version": 3
   },
   "file_extension": ".py",
   "mimetype": "text/x-python",
   "name": "python",
   "nbconvert_exporter": "python",
   "pygments_lexer": "ipython3",
   "version": "3.11.3"
  },
  "varInspector": {
   "cols": {
    "lenName": 16,
    "lenType": 16,
    "lenVar": 40
   },
   "kernels_config": {
    "python": {
     "delete_cmd_postfix": "",
     "delete_cmd_prefix": "del ",
     "library": "var_list.py",
     "varRefreshCmd": "print(var_dic_list())"
    },
    "r": {
     "delete_cmd_postfix": ") ",
     "delete_cmd_prefix": "rm(",
     "library": "var_list.r",
     "varRefreshCmd": "cat(var_dic_list()) "
    }
   },
   "types_to_exclude": [
    "module",
    "function",
    "builtin_function_or_method",
    "instance",
    "_Feature"
   ],
   "window_display": false
  }
 },
 "nbformat": 4,
 "nbformat_minor": 5
}
